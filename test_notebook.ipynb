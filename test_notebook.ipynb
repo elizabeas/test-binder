{
 "cells": [
  {
   "cell_type": "markdown",
   "id": "b84c0cd1-8d3a-4a1c-83a4-e654ba8881e4",
   "metadata": {},
   "source": [
    "# Example Notebook"
   ]
  },
  {
   "cell_type": "code",
   "execution_count": 1,
   "id": "fa2082c2-0732-44d1-ae27-26fa25e6066b",
   "metadata": {},
   "outputs": [
    {
     "name": "stdout",
     "output_type": "stream",
     "text": [
      "Here is a notebook in the test-binder repository\n"
     ]
    }
   ],
   "source": [
    "print('Here is a notebook in the test-binder repository')"
   ]
  },
  {
   "cell_type": "code",
   "execution_count": null,
   "id": "a0aaef9f-6d9a-4804-91e4-ee916cd1c416",
   "metadata": {},
   "outputs": [],
   "source": []
  }
 ],
 "metadata": {
  "kernelspec": {
   "display_name": "Python 3 (ipykernel)",
   "language": "python",
   "name": "python3"
  },
  "language_info": {
   "codemirror_mode": {
    "name": "ipython",
    "version": 3
   },
   "file_extension": ".py",
   "mimetype": "text/x-python",
   "name": "python",
   "nbconvert_exporter": "python",
   "pygments_lexer": "ipython3",
   "version": "3.10.14"
  }
 },
 "nbformat": 4,
 "nbformat_minor": 5
}
